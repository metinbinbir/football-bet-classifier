{
  "nbformat": 4,
  "nbformat_minor": 0,
  "metadata": {
    "colab": {
      "name": "bet-prediction.ipynb",
      "provenance": [],
      "collapsed_sections": []
    },
    "kernelspec": {
      "name": "python3",
      "display_name": "Python 3"
    },
    "language_info": {
      "name": "python"
    }
  },
  "cells": [
    {
      "cell_type": "code",
      "source": [
        "from google.colab import drive\n",
        "drive.mount('/content/drive')"
      ],
      "metadata": {
        "id": "TFhH7Sh86gbt"
      },
      "execution_count": null,
      "outputs": []
    },
    {
      "cell_type": "code",
      "source": [
        "cd drive/MyDrive/ai-term-project"
      ],
      "metadata": {
        "id": "-3Doi0QcrHiT",
        "colab": {
          "base_uri": "https://localhost:8080/"
        },
        "outputId": "5a177444-df90-4ec5-eb5e-c5672fd0a0b0"
      },
      "execution_count": 1,
      "outputs": [
        {
          "output_type": "stream",
          "name": "stdout",
          "text": [
            "/content/drive/MyDrive/ai-term-project\n"
          ]
        }
      ]
    },
    {
      "cell_type": "code",
      "execution_count": 2,
      "metadata": {
        "id": "35W5sDMaqsmz"
      },
      "outputs": [],
      "source": [
        "import pandas as pd\n",
        "import numpy as np\n",
        "import sklearn\n",
        "from sklearn.utils import shuffle\n",
        "from sklearn import metrics\n",
        "from sklearn.decomposition import PCA\n",
        "from sklearn.neighbors import KNeighborsClassifier\n",
        "from sklearn.model_selection import train_test_split, GridSearchCV\n",
        "from sklearn.ensemble import RandomForestClassifier\n",
        "from sklearn.svm import SVC \n",
        "from sklearn.metrics import classification_report\n",
        "import pickle\n",
        "from sklearn.metrics import plot_confusion_matrix\n",
        "import pandas as pd # data reading\n",
        "import matplotlib.pyplot as plt # data visualization\n",
        "from sklearn import preprocessing\n",
        "from sklearn.preprocessing import LabelEncoder, StandardScaler # data manipulation\n",
        "from sklearn.model_selection import train_test_split, cross_val_score, KFold\n",
        "import warnings\n",
        "from sklearn.exceptions import DataConversionWarning, ConvergenceWarning\n",
        "from sklearn.metrics import plot_confusion_matrix\n",
        "import pickle\n",
        "from sklearn.tree import DecisionTreeClassifier\n",
        "import numpy as np\n",
        "warnings.filterwarnings(action='ignore', category=DataConversionWarning)\n",
        "warnings.filterwarnings(action='ignore', category=ConvergenceWarning)\n",
        "warnings.filterwarnings(action='ignore', category=UserWarning)\n",
        "warnings.filterwarnings(action='ignore', category=FutureWarning)\n",
        "from sklearn.decomposition import PCA\n",
        "from sklearn.neighbors import KNeighborsClassifier\n",
        "from sklearn.model_selection import train_test_split, GridSearchCV\n",
        "from sklearn.ensemble import RandomForestClassifier\n",
        "from sklearn.svm import SVC \n",
        "from sklearn.metrics import classification_report\n",
        "from sklearn.tree import DecisionTreeClassifier"
      ]
    },
    {
      "cell_type": "code",
      "source": [
        "# reading data from txt file\n",
        "data = pd.read_csv('scraped_data.txt', sep=\" \", header=None)\n",
        "\n",
        "# column names were not in txt file, setting them after reading data\n",
        "data.columns = [\"MS\", \"IY\", \"MS1\", \"MS0\", \"MS2\", \"2.5A\", \"2.5U\", \"KGVAR\", \"KGYOK\", \"IY-0.5A\", \"IY-0.5U\", \"1.5A\",\n",
        "                \"1.5U\", \"ÇŞ-1/X\", \"ÇŞ-1/2\", \"ÇŞ-0/2\", \"IY-1.5A\", \"IY-1.5U\", \"1.5A-delete\", \"1.5U-delete\", \"3.5A\",\n",
        "                \"3.5U\", \"TG/0-1\", \"TG/2-3\",\"TG/4-5\", \"TG/6+\"]"
      ],
      "metadata": {
        "id": "FLMjowQsrUrk"
      },
      "execution_count": 18,
      "outputs": []
    },
    {
      "cell_type": "code",
      "source": [
        "len(data.columns)"
      ],
      "metadata": {
        "colab": {
          "base_uri": "https://localhost:8080/"
        },
        "id": "rykuJ1fmGom2",
        "outputId": "d81ddd1f-e93f-4c44-87ca-a8ea66e63914"
      },
      "execution_count": 19,
      "outputs": [
        {
          "output_type": "execute_result",
          "data": {
            "text/plain": [
              "26"
            ]
          },
          "metadata": {},
          "execution_count": 19
        }
      ]
    },
    {
      "cell_type": "code",
      "source": [
        "data.head()"
      ],
      "metadata": {
        "colab": {
          "base_uri": "https://localhost:8080/",
          "height": 236
        },
        "id": "x262Iyr0uBdf",
        "outputId": "62fb863c-e608-4b80-af28-e83b44c78783"
      },
      "execution_count": 20,
      "outputs": [
        {
          "output_type": "execute_result",
          "data": {
            "text/plain": [
              "    MS   IY   MS1   MS0   MS2  2.5A  2.5U  KGVAR  KGYOK  IY-0.5A  ...  \\\n",
              "0  0-1  0-0  3.50  3.20  1.77  1.75  1.71   1.63   1.86     2.66  ...   \n",
              "1  2-1  1-0  2.65  2.65  2.44  1.36  2.38   1.98   1.54     2.09  ...   \n",
              "2  4-3  0-2  1.53  3.55  4.40  1.81  1.65   1.69   1.78     2.70  ...   \n",
              "3  2-0  1-0  2.47  2.80  2.47  1.43  2.19   1.89   1.59     2.18  ...   \n",
              "4  2-2  1-1  3.10  2.85  2.05  1.43  2.06   1.82   1.62     2.20  ...   \n",
              "\n",
              "   IY-1.5A  IY-1.5U  1.5A-delete  1.5U-delete  3.5A  3.5U  TG/0-1  TG/2-3  \\\n",
              "0     1.30     2.59         3.40         1.16  1.24  2.85    2.97    1.75   \n",
              "1     1.15     3.55         2.31         1.38  1.13  3.65    2.05    1.75   \n",
              "2     1.31     2.55         3.35         1.16  1.26  2.75    3.10    1.76   \n",
              "3     1.17     3.30         2.48         1.33  1.09  4.15    2.20    1.73   \n",
              "4     1.20     3.30         2.51         1.28  1.12  3.75    2.22    1.73   \n",
              "\n",
              "   TG/4-5  TG/6+  \n",
              "0    3.22  12.05  \n",
              "1    4.81  30.50  \n",
              "2    3.12  11.05  \n",
              "3    4.38  24.85  \n",
              "4    3.99  20.10  \n",
              "\n",
              "[5 rows x 26 columns]"
            ],
            "text/html": [
              "\n",
              "  <div id=\"df-7fb8cceb-e4f4-460b-bad8-1c497fd2c25e\">\n",
              "    <div class=\"colab-df-container\">\n",
              "      <div>\n",
              "<style scoped>\n",
              "    .dataframe tbody tr th:only-of-type {\n",
              "        vertical-align: middle;\n",
              "    }\n",
              "\n",
              "    .dataframe tbody tr th {\n",
              "        vertical-align: top;\n",
              "    }\n",
              "\n",
              "    .dataframe thead th {\n",
              "        text-align: right;\n",
              "    }\n",
              "</style>\n",
              "<table border=\"1\" class=\"dataframe\">\n",
              "  <thead>\n",
              "    <tr style=\"text-align: right;\">\n",
              "      <th></th>\n",
              "      <th>MS</th>\n",
              "      <th>IY</th>\n",
              "      <th>MS1</th>\n",
              "      <th>MS0</th>\n",
              "      <th>MS2</th>\n",
              "      <th>2.5A</th>\n",
              "      <th>2.5U</th>\n",
              "      <th>KGVAR</th>\n",
              "      <th>KGYOK</th>\n",
              "      <th>IY-0.5A</th>\n",
              "      <th>...</th>\n",
              "      <th>IY-1.5A</th>\n",
              "      <th>IY-1.5U</th>\n",
              "      <th>1.5A-delete</th>\n",
              "      <th>1.5U-delete</th>\n",
              "      <th>3.5A</th>\n",
              "      <th>3.5U</th>\n",
              "      <th>TG/0-1</th>\n",
              "      <th>TG/2-3</th>\n",
              "      <th>TG/4-5</th>\n",
              "      <th>TG/6+</th>\n",
              "    </tr>\n",
              "  </thead>\n",
              "  <tbody>\n",
              "    <tr>\n",
              "      <th>0</th>\n",
              "      <td>0-1</td>\n",
              "      <td>0-0</td>\n",
              "      <td>3.50</td>\n",
              "      <td>3.20</td>\n",
              "      <td>1.77</td>\n",
              "      <td>1.75</td>\n",
              "      <td>1.71</td>\n",
              "      <td>1.63</td>\n",
              "      <td>1.86</td>\n",
              "      <td>2.66</td>\n",
              "      <td>...</td>\n",
              "      <td>1.30</td>\n",
              "      <td>2.59</td>\n",
              "      <td>3.40</td>\n",
              "      <td>1.16</td>\n",
              "      <td>1.24</td>\n",
              "      <td>2.85</td>\n",
              "      <td>2.97</td>\n",
              "      <td>1.75</td>\n",
              "      <td>3.22</td>\n",
              "      <td>12.05</td>\n",
              "    </tr>\n",
              "    <tr>\n",
              "      <th>1</th>\n",
              "      <td>2-1</td>\n",
              "      <td>1-0</td>\n",
              "      <td>2.65</td>\n",
              "      <td>2.65</td>\n",
              "      <td>2.44</td>\n",
              "      <td>1.36</td>\n",
              "      <td>2.38</td>\n",
              "      <td>1.98</td>\n",
              "      <td>1.54</td>\n",
              "      <td>2.09</td>\n",
              "      <td>...</td>\n",
              "      <td>1.15</td>\n",
              "      <td>3.55</td>\n",
              "      <td>2.31</td>\n",
              "      <td>1.38</td>\n",
              "      <td>1.13</td>\n",
              "      <td>3.65</td>\n",
              "      <td>2.05</td>\n",
              "      <td>1.75</td>\n",
              "      <td>4.81</td>\n",
              "      <td>30.50</td>\n",
              "    </tr>\n",
              "    <tr>\n",
              "      <th>2</th>\n",
              "      <td>4-3</td>\n",
              "      <td>0-2</td>\n",
              "      <td>1.53</td>\n",
              "      <td>3.55</td>\n",
              "      <td>4.40</td>\n",
              "      <td>1.81</td>\n",
              "      <td>1.65</td>\n",
              "      <td>1.69</td>\n",
              "      <td>1.78</td>\n",
              "      <td>2.70</td>\n",
              "      <td>...</td>\n",
              "      <td>1.31</td>\n",
              "      <td>2.55</td>\n",
              "      <td>3.35</td>\n",
              "      <td>1.16</td>\n",
              "      <td>1.26</td>\n",
              "      <td>2.75</td>\n",
              "      <td>3.10</td>\n",
              "      <td>1.76</td>\n",
              "      <td>3.12</td>\n",
              "      <td>11.05</td>\n",
              "    </tr>\n",
              "    <tr>\n",
              "      <th>3</th>\n",
              "      <td>2-0</td>\n",
              "      <td>1-0</td>\n",
              "      <td>2.47</td>\n",
              "      <td>2.80</td>\n",
              "      <td>2.47</td>\n",
              "      <td>1.43</td>\n",
              "      <td>2.19</td>\n",
              "      <td>1.89</td>\n",
              "      <td>1.59</td>\n",
              "      <td>2.18</td>\n",
              "      <td>...</td>\n",
              "      <td>1.17</td>\n",
              "      <td>3.30</td>\n",
              "      <td>2.48</td>\n",
              "      <td>1.33</td>\n",
              "      <td>1.09</td>\n",
              "      <td>4.15</td>\n",
              "      <td>2.20</td>\n",
              "      <td>1.73</td>\n",
              "      <td>4.38</td>\n",
              "      <td>24.85</td>\n",
              "    </tr>\n",
              "    <tr>\n",
              "      <th>4</th>\n",
              "      <td>2-2</td>\n",
              "      <td>1-1</td>\n",
              "      <td>3.10</td>\n",
              "      <td>2.85</td>\n",
              "      <td>2.05</td>\n",
              "      <td>1.43</td>\n",
              "      <td>2.06</td>\n",
              "      <td>1.82</td>\n",
              "      <td>1.62</td>\n",
              "      <td>2.20</td>\n",
              "      <td>...</td>\n",
              "      <td>1.20</td>\n",
              "      <td>3.30</td>\n",
              "      <td>2.51</td>\n",
              "      <td>1.28</td>\n",
              "      <td>1.12</td>\n",
              "      <td>3.75</td>\n",
              "      <td>2.22</td>\n",
              "      <td>1.73</td>\n",
              "      <td>3.99</td>\n",
              "      <td>20.10</td>\n",
              "    </tr>\n",
              "  </tbody>\n",
              "</table>\n",
              "<p>5 rows × 26 columns</p>\n",
              "</div>\n",
              "      <button class=\"colab-df-convert\" onclick=\"convertToInteractive('df-7fb8cceb-e4f4-460b-bad8-1c497fd2c25e')\"\n",
              "              title=\"Convert this dataframe to an interactive table.\"\n",
              "              style=\"display:none;\">\n",
              "        \n",
              "  <svg xmlns=\"http://www.w3.org/2000/svg\" height=\"24px\"viewBox=\"0 0 24 24\"\n",
              "       width=\"24px\">\n",
              "    <path d=\"M0 0h24v24H0V0z\" fill=\"none\"/>\n",
              "    <path d=\"M18.56 5.44l.94 2.06.94-2.06 2.06-.94-2.06-.94-.94-2.06-.94 2.06-2.06.94zm-11 1L8.5 8.5l.94-2.06 2.06-.94-2.06-.94L8.5 2.5l-.94 2.06-2.06.94zm10 10l.94 2.06.94-2.06 2.06-.94-2.06-.94-.94-2.06-.94 2.06-2.06.94z\"/><path d=\"M17.41 7.96l-1.37-1.37c-.4-.4-.92-.59-1.43-.59-.52 0-1.04.2-1.43.59L10.3 9.45l-7.72 7.72c-.78.78-.78 2.05 0 2.83L4 21.41c.39.39.9.59 1.41.59.51 0 1.02-.2 1.41-.59l7.78-7.78 2.81-2.81c.8-.78.8-2.07 0-2.86zM5.41 20L4 18.59l7.72-7.72 1.47 1.35L5.41 20z\"/>\n",
              "  </svg>\n",
              "      </button>\n",
              "      \n",
              "  <style>\n",
              "    .colab-df-container {\n",
              "      display:flex;\n",
              "      flex-wrap:wrap;\n",
              "      gap: 12px;\n",
              "    }\n",
              "\n",
              "    .colab-df-convert {\n",
              "      background-color: #E8F0FE;\n",
              "      border: none;\n",
              "      border-radius: 50%;\n",
              "      cursor: pointer;\n",
              "      display: none;\n",
              "      fill: #1967D2;\n",
              "      height: 32px;\n",
              "      padding: 0 0 0 0;\n",
              "      width: 32px;\n",
              "    }\n",
              "\n",
              "    .colab-df-convert:hover {\n",
              "      background-color: #E2EBFA;\n",
              "      box-shadow: 0px 1px 2px rgba(60, 64, 67, 0.3), 0px 1px 3px 1px rgba(60, 64, 67, 0.15);\n",
              "      fill: #174EA6;\n",
              "    }\n",
              "\n",
              "    [theme=dark] .colab-df-convert {\n",
              "      background-color: #3B4455;\n",
              "      fill: #D2E3FC;\n",
              "    }\n",
              "\n",
              "    [theme=dark] .colab-df-convert:hover {\n",
              "      background-color: #434B5C;\n",
              "      box-shadow: 0px 1px 3px 1px rgba(0, 0, 0, 0.15);\n",
              "      filter: drop-shadow(0px 1px 2px rgba(0, 0, 0, 0.3));\n",
              "      fill: #FFFFFF;\n",
              "    }\n",
              "  </style>\n",
              "\n",
              "      <script>\n",
              "        const buttonEl =\n",
              "          document.querySelector('#df-7fb8cceb-e4f4-460b-bad8-1c497fd2c25e button.colab-df-convert');\n",
              "        buttonEl.style.display =\n",
              "          google.colab.kernel.accessAllowed ? 'block' : 'none';\n",
              "\n",
              "        async function convertToInteractive(key) {\n",
              "          const element = document.querySelector('#df-7fb8cceb-e4f4-460b-bad8-1c497fd2c25e');\n",
              "          const dataTable =\n",
              "            await google.colab.kernel.invokeFunction('convertToInteractive',\n",
              "                                                     [key], {});\n",
              "          if (!dataTable) return;\n",
              "\n",
              "          const docLinkHtml = 'Like what you see? Visit the ' +\n",
              "            '<a target=\"_blank\" href=https://colab.research.google.com/notebooks/data_table.ipynb>data table notebook</a>'\n",
              "            + ' to learn more about interactive tables.';\n",
              "          element.innerHTML = '';\n",
              "          dataTable['output_type'] = 'display_data';\n",
              "          await google.colab.output.renderOutput(dataTable, element);\n",
              "          const docLink = document.createElement('div');\n",
              "          docLink.innerHTML = docLinkHtml;\n",
              "          element.appendChild(docLink);\n",
              "        }\n",
              "      </script>\n",
              "    </div>\n",
              "  </div>\n",
              "  "
            ]
          },
          "metadata": {},
          "execution_count": 20
        }
      ]
    },
    {
      "cell_type": "code",
      "source": [
        "len(data)"
      ],
      "metadata": {
        "colab": {
          "base_uri": "https://localhost:8080/"
        },
        "id": "S9S9ysDjG-pi",
        "outputId": "7a3e6536-b5d3-47e7-d9d4-1e9cfd566570"
      },
      "execution_count": 21,
      "outputs": [
        {
          "output_type": "execute_result",
          "data": {
            "text/plain": [
              "2796"
            ]
          },
          "metadata": {},
          "execution_count": 21
        }
      ]
    },
    {
      "cell_type": "code",
      "source": [
        "# drop duplicate columns\n",
        "data = data.drop(columns=['1.5A-delete', '1.5U-delete'])"
      ],
      "metadata": {
        "id": "zpS5HO75wqrj"
      },
      "execution_count": 22,
      "outputs": []
    },
    {
      "cell_type": "code",
      "source": [
        "len(data.columns)"
      ],
      "metadata": {
        "colab": {
          "base_uri": "https://localhost:8080/"
        },
        "id": "zcvmT6muGvsS",
        "outputId": "f1424ff1-51c5-40e0-f06d-1f2ff961439a"
      },
      "execution_count": 23,
      "outputs": [
        {
          "output_type": "execute_result",
          "data": {
            "text/plain": [
              "24"
            ]
          },
          "metadata": {},
          "execution_count": 23
        }
      ]
    },
    {
      "cell_type": "code",
      "source": [
        "data['MS_numerik'] = \"\"\n",
        "data['IY_numerik'] = \"\"\n",
        "data['KG_numerik'] = \"\"\n",
        "\n",
        "pd.options.mode.chained_assignment = None\n",
        "# mac sonuclari numerik veriye cevrilir\n",
        "# ev sahibi maci kazandiysa 1\n",
        "# berabere bitmisse 0\n",
        "# deplasman takimi kazandiysa 2\n",
        "for i in range(len(data['MS'])):\n",
        "  row = data['MS'][i]\n",
        "  splitted_cell = row.split(\"-\")\n",
        "  home = int(splitted_cell[0])\n",
        "  away = int(splitted_cell[1])\n",
        "  if home > away:\n",
        "    row = 1\n",
        "  elif home < away:\n",
        "    row = 2\n",
        "  else:\n",
        "    row = 0\n",
        "  data['MS_numerik'][i] = int(row)\n",
        "\n",
        "# ilk yari sonuclari numerik veriye cevrilir\n",
        "# ev sahibi maci kazandiysa 1\n",
        "# berabere bitmisse 0\n",
        "# deplasman takimi kazandiysa 2\n",
        "for i in range(len(data['IY'])):\n",
        "  row = data['IY'][i]\n",
        "  splitted_cell = row.split(\"-\")\n",
        "  home = int(splitted_cell[0])\n",
        "  away = int(splitted_cell[1])\n",
        "  if home > away:\n",
        "    row = 1\n",
        "  elif home < away:\n",
        "    row = 2\n",
        "  else:\n",
        "    row = 0\n",
        "  data['IY_numerik'][i] = int(row)\n",
        "\n",
        "# karsilikli gol numerik veriye ekstra column olarak cevrilir\n",
        "# varsa 1, yoksa 0\n",
        "for i in range(len(data['MS'])):\n",
        "  row = data['MS'][i]\n",
        "  splitted_cell = row.split(\"-\")\n",
        "  home = int(splitted_cell[0])\n",
        "  away = int(splitted_cell[1])\n",
        "  if home > 0 and away > 0:\n",
        "    data['KG_numerik'][i] = 1\n",
        "  else:\n",
        "    data['KG_numerik'][i] = 0"
      ],
      "metadata": {
        "id": "fBme9AdZIwib"
      },
      "execution_count": 24,
      "outputs": []
    },
    {
      "cell_type": "code",
      "source": [
        "# ms -> 0 beraberlik, 1 ev sahibi win, 2 deplasman win\n",
        "# iy -> ms ile ayni\n",
        "# kg -> 0 karsilikli gol yok, 1 karsilikli gol var\n",
        "le = LabelEncoder()\n",
        "\n",
        "data['MS_numerik'] = le.fit_transform(data['MS_numerik'])\n",
        "ms_dict = dict(zip(le.classes_,range(len(le.classes_))))\n",
        "print(ms_dict)\n",
        "\n",
        "le = LabelEncoder()\n",
        "data['IY_numerik'] = le.fit_transform(data['IY_numerik'])\n",
        "iy_dict = dict(zip(le.classes_,range(len(le.classes_))))\n",
        "print(iy_dict)\n",
        "\n",
        "le = LabelEncoder()\n",
        "data['KG_numerik'] = le.fit_transform(data['KG_numerik'])\n",
        "kg_dict = dict(zip(le.classes_,range(len(le.classes_))))\n",
        "print(kg_dict)"
      ],
      "metadata": {
        "colab": {
          "base_uri": "https://localhost:8080/"
        },
        "id": "wYXqlqu9KY6a",
        "outputId": "7c2c2bac-3a41-4679-c267-0fe5dafff3d8"
      },
      "execution_count": 25,
      "outputs": [
        {
          "output_type": "stream",
          "name": "stdout",
          "text": [
            "{0: 0, 1: 1, 2: 2}\n",
            "{0: 0, 1: 1, 2: 2}\n",
            "{0: 0, 1: 1}\n"
          ]
        }
      ]
    },
    {
      "cell_type": "code",
      "source": [
        "len(data.columns)"
      ],
      "metadata": {
        "colab": {
          "base_uri": "https://localhost:8080/"
        },
        "id": "NyhsAODLG8Gs",
        "outputId": "472d02f4-332a-41d3-f9a9-97158cde0845"
      },
      "execution_count": 26,
      "outputs": [
        {
          "output_type": "execute_result",
          "data": {
            "text/plain": [
              "27"
            ]
          },
          "metadata": {},
          "execution_count": 26
        }
      ]
    },
    {
      "cell_type": "code",
      "source": [
        "data.head()"
      ],
      "metadata": {
        "colab": {
          "base_uri": "https://localhost:8080/",
          "height": 236
        },
        "id": "YBDGFR8PJCmK",
        "outputId": "8e6f6fe9-f4e3-4d10-e421-7f07a8f2a6c9"
      },
      "execution_count": 27,
      "outputs": [
        {
          "output_type": "execute_result",
          "data": {
            "text/plain": [
              "    MS   IY   MS1   MS0   MS2  2.5A  2.5U  KGVAR  KGYOK  IY-0.5A  ...  \\\n",
              "0  0-1  0-0  3.50  3.20  1.77  1.75  1.71   1.63   1.86     2.66  ...   \n",
              "1  2-1  1-0  2.65  2.65  2.44  1.36  2.38   1.98   1.54     2.09  ...   \n",
              "2  4-3  0-2  1.53  3.55  4.40  1.81  1.65   1.69   1.78     2.70  ...   \n",
              "3  2-0  1-0  2.47  2.80  2.47  1.43  2.19   1.89   1.59     2.18  ...   \n",
              "4  2-2  1-1  3.10  2.85  2.05  1.43  2.06   1.82   1.62     2.20  ...   \n",
              "\n",
              "   IY-1.5U  3.5A  3.5U  TG/0-1  TG/2-3  TG/4-5  TG/6+  MS_numerik  IY_numerik  \\\n",
              "0     2.59  1.24  2.85    2.97    1.75    3.22  12.05           2           0   \n",
              "1     3.55  1.13  3.65    2.05    1.75    4.81  30.50           1           1   \n",
              "2     2.55  1.26  2.75    3.10    1.76    3.12  11.05           1           2   \n",
              "3     3.30  1.09  4.15    2.20    1.73    4.38  24.85           1           1   \n",
              "4     3.30  1.12  3.75    2.22    1.73    3.99  20.10           0           0   \n",
              "\n",
              "   KG_numerik  \n",
              "0           0  \n",
              "1           1  \n",
              "2           1  \n",
              "3           0  \n",
              "4           1  \n",
              "\n",
              "[5 rows x 27 columns]"
            ],
            "text/html": [
              "\n",
              "  <div id=\"df-bf9972a9-9a47-44b0-bd1f-edfbdaa66b53\">\n",
              "    <div class=\"colab-df-container\">\n",
              "      <div>\n",
              "<style scoped>\n",
              "    .dataframe tbody tr th:only-of-type {\n",
              "        vertical-align: middle;\n",
              "    }\n",
              "\n",
              "    .dataframe tbody tr th {\n",
              "        vertical-align: top;\n",
              "    }\n",
              "\n",
              "    .dataframe thead th {\n",
              "        text-align: right;\n",
              "    }\n",
              "</style>\n",
              "<table border=\"1\" class=\"dataframe\">\n",
              "  <thead>\n",
              "    <tr style=\"text-align: right;\">\n",
              "      <th></th>\n",
              "      <th>MS</th>\n",
              "      <th>IY</th>\n",
              "      <th>MS1</th>\n",
              "      <th>MS0</th>\n",
              "      <th>MS2</th>\n",
              "      <th>2.5A</th>\n",
              "      <th>2.5U</th>\n",
              "      <th>KGVAR</th>\n",
              "      <th>KGYOK</th>\n",
              "      <th>IY-0.5A</th>\n",
              "      <th>...</th>\n",
              "      <th>IY-1.5U</th>\n",
              "      <th>3.5A</th>\n",
              "      <th>3.5U</th>\n",
              "      <th>TG/0-1</th>\n",
              "      <th>TG/2-3</th>\n",
              "      <th>TG/4-5</th>\n",
              "      <th>TG/6+</th>\n",
              "      <th>MS_numerik</th>\n",
              "      <th>IY_numerik</th>\n",
              "      <th>KG_numerik</th>\n",
              "    </tr>\n",
              "  </thead>\n",
              "  <tbody>\n",
              "    <tr>\n",
              "      <th>0</th>\n",
              "      <td>0-1</td>\n",
              "      <td>0-0</td>\n",
              "      <td>3.50</td>\n",
              "      <td>3.20</td>\n",
              "      <td>1.77</td>\n",
              "      <td>1.75</td>\n",
              "      <td>1.71</td>\n",
              "      <td>1.63</td>\n",
              "      <td>1.86</td>\n",
              "      <td>2.66</td>\n",
              "      <td>...</td>\n",
              "      <td>2.59</td>\n",
              "      <td>1.24</td>\n",
              "      <td>2.85</td>\n",
              "      <td>2.97</td>\n",
              "      <td>1.75</td>\n",
              "      <td>3.22</td>\n",
              "      <td>12.05</td>\n",
              "      <td>2</td>\n",
              "      <td>0</td>\n",
              "      <td>0</td>\n",
              "    </tr>\n",
              "    <tr>\n",
              "      <th>1</th>\n",
              "      <td>2-1</td>\n",
              "      <td>1-0</td>\n",
              "      <td>2.65</td>\n",
              "      <td>2.65</td>\n",
              "      <td>2.44</td>\n",
              "      <td>1.36</td>\n",
              "      <td>2.38</td>\n",
              "      <td>1.98</td>\n",
              "      <td>1.54</td>\n",
              "      <td>2.09</td>\n",
              "      <td>...</td>\n",
              "      <td>3.55</td>\n",
              "      <td>1.13</td>\n",
              "      <td>3.65</td>\n",
              "      <td>2.05</td>\n",
              "      <td>1.75</td>\n",
              "      <td>4.81</td>\n",
              "      <td>30.50</td>\n",
              "      <td>1</td>\n",
              "      <td>1</td>\n",
              "      <td>1</td>\n",
              "    </tr>\n",
              "    <tr>\n",
              "      <th>2</th>\n",
              "      <td>4-3</td>\n",
              "      <td>0-2</td>\n",
              "      <td>1.53</td>\n",
              "      <td>3.55</td>\n",
              "      <td>4.40</td>\n",
              "      <td>1.81</td>\n",
              "      <td>1.65</td>\n",
              "      <td>1.69</td>\n",
              "      <td>1.78</td>\n",
              "      <td>2.70</td>\n",
              "      <td>...</td>\n",
              "      <td>2.55</td>\n",
              "      <td>1.26</td>\n",
              "      <td>2.75</td>\n",
              "      <td>3.10</td>\n",
              "      <td>1.76</td>\n",
              "      <td>3.12</td>\n",
              "      <td>11.05</td>\n",
              "      <td>1</td>\n",
              "      <td>2</td>\n",
              "      <td>1</td>\n",
              "    </tr>\n",
              "    <tr>\n",
              "      <th>3</th>\n",
              "      <td>2-0</td>\n",
              "      <td>1-0</td>\n",
              "      <td>2.47</td>\n",
              "      <td>2.80</td>\n",
              "      <td>2.47</td>\n",
              "      <td>1.43</td>\n",
              "      <td>2.19</td>\n",
              "      <td>1.89</td>\n",
              "      <td>1.59</td>\n",
              "      <td>2.18</td>\n",
              "      <td>...</td>\n",
              "      <td>3.30</td>\n",
              "      <td>1.09</td>\n",
              "      <td>4.15</td>\n",
              "      <td>2.20</td>\n",
              "      <td>1.73</td>\n",
              "      <td>4.38</td>\n",
              "      <td>24.85</td>\n",
              "      <td>1</td>\n",
              "      <td>1</td>\n",
              "      <td>0</td>\n",
              "    </tr>\n",
              "    <tr>\n",
              "      <th>4</th>\n",
              "      <td>2-2</td>\n",
              "      <td>1-1</td>\n",
              "      <td>3.10</td>\n",
              "      <td>2.85</td>\n",
              "      <td>2.05</td>\n",
              "      <td>1.43</td>\n",
              "      <td>2.06</td>\n",
              "      <td>1.82</td>\n",
              "      <td>1.62</td>\n",
              "      <td>2.20</td>\n",
              "      <td>...</td>\n",
              "      <td>3.30</td>\n",
              "      <td>1.12</td>\n",
              "      <td>3.75</td>\n",
              "      <td>2.22</td>\n",
              "      <td>1.73</td>\n",
              "      <td>3.99</td>\n",
              "      <td>20.10</td>\n",
              "      <td>0</td>\n",
              "      <td>0</td>\n",
              "      <td>1</td>\n",
              "    </tr>\n",
              "  </tbody>\n",
              "</table>\n",
              "<p>5 rows × 27 columns</p>\n",
              "</div>\n",
              "      <button class=\"colab-df-convert\" onclick=\"convertToInteractive('df-bf9972a9-9a47-44b0-bd1f-edfbdaa66b53')\"\n",
              "              title=\"Convert this dataframe to an interactive table.\"\n",
              "              style=\"display:none;\">\n",
              "        \n",
              "  <svg xmlns=\"http://www.w3.org/2000/svg\" height=\"24px\"viewBox=\"0 0 24 24\"\n",
              "       width=\"24px\">\n",
              "    <path d=\"M0 0h24v24H0V0z\" fill=\"none\"/>\n",
              "    <path d=\"M18.56 5.44l.94 2.06.94-2.06 2.06-.94-2.06-.94-.94-2.06-.94 2.06-2.06.94zm-11 1L8.5 8.5l.94-2.06 2.06-.94-2.06-.94L8.5 2.5l-.94 2.06-2.06.94zm10 10l.94 2.06.94-2.06 2.06-.94-2.06-.94-.94-2.06-.94 2.06-2.06.94z\"/><path d=\"M17.41 7.96l-1.37-1.37c-.4-.4-.92-.59-1.43-.59-.52 0-1.04.2-1.43.59L10.3 9.45l-7.72 7.72c-.78.78-.78 2.05 0 2.83L4 21.41c.39.39.9.59 1.41.59.51 0 1.02-.2 1.41-.59l7.78-7.78 2.81-2.81c.8-.78.8-2.07 0-2.86zM5.41 20L4 18.59l7.72-7.72 1.47 1.35L5.41 20z\"/>\n",
              "  </svg>\n",
              "      </button>\n",
              "      \n",
              "  <style>\n",
              "    .colab-df-container {\n",
              "      display:flex;\n",
              "      flex-wrap:wrap;\n",
              "      gap: 12px;\n",
              "    }\n",
              "\n",
              "    .colab-df-convert {\n",
              "      background-color: #E8F0FE;\n",
              "      border: none;\n",
              "      border-radius: 50%;\n",
              "      cursor: pointer;\n",
              "      display: none;\n",
              "      fill: #1967D2;\n",
              "      height: 32px;\n",
              "      padding: 0 0 0 0;\n",
              "      width: 32px;\n",
              "    }\n",
              "\n",
              "    .colab-df-convert:hover {\n",
              "      background-color: #E2EBFA;\n",
              "      box-shadow: 0px 1px 2px rgba(60, 64, 67, 0.3), 0px 1px 3px 1px rgba(60, 64, 67, 0.15);\n",
              "      fill: #174EA6;\n",
              "    }\n",
              "\n",
              "    [theme=dark] .colab-df-convert {\n",
              "      background-color: #3B4455;\n",
              "      fill: #D2E3FC;\n",
              "    }\n",
              "\n",
              "    [theme=dark] .colab-df-convert:hover {\n",
              "      background-color: #434B5C;\n",
              "      box-shadow: 0px 1px 3px 1px rgba(0, 0, 0, 0.15);\n",
              "      filter: drop-shadow(0px 1px 2px rgba(0, 0, 0, 0.3));\n",
              "      fill: #FFFFFF;\n",
              "    }\n",
              "  </style>\n",
              "\n",
              "      <script>\n",
              "        const buttonEl =\n",
              "          document.querySelector('#df-bf9972a9-9a47-44b0-bd1f-edfbdaa66b53 button.colab-df-convert');\n",
              "        buttonEl.style.display =\n",
              "          google.colab.kernel.accessAllowed ? 'block' : 'none';\n",
              "\n",
              "        async function convertToInteractive(key) {\n",
              "          const element = document.querySelector('#df-bf9972a9-9a47-44b0-bd1f-edfbdaa66b53');\n",
              "          const dataTable =\n",
              "            await google.colab.kernel.invokeFunction('convertToInteractive',\n",
              "                                                     [key], {});\n",
              "          if (!dataTable) return;\n",
              "\n",
              "          const docLinkHtml = 'Like what you see? Visit the ' +\n",
              "            '<a target=\"_blank\" href=https://colab.research.google.com/notebooks/data_table.ipynb>data table notebook</a>'\n",
              "            + ' to learn more about interactive tables.';\n",
              "          element.innerHTML = '';\n",
              "          dataTable['output_type'] = 'display_data';\n",
              "          await google.colab.output.renderOutput(dataTable, element);\n",
              "          const docLink = document.createElement('div');\n",
              "          docLink.innerHTML = docLinkHtml;\n",
              "          element.appendChild(docLink);\n",
              "        }\n",
              "      </script>\n",
              "    </div>\n",
              "  </div>\n",
              "  "
            ]
          },
          "metadata": {},
          "execution_count": 27
        }
      ]
    },
    {
      "cell_type": "code",
      "source": [
        "len(data)"
      ],
      "metadata": {
        "colab": {
          "base_uri": "https://localhost:8080/"
        },
        "id": "e3OUN9yzGg2l",
        "outputId": "f1fbbb14-399c-41a5-ac4f-1522d48239ce"
      },
      "execution_count": 28,
      "outputs": [
        {
          "output_type": "execute_result",
          "data": {
            "text/plain": [
              "2796"
            ]
          },
          "metadata": {},
          "execution_count": 28
        }
      ]
    },
    {
      "cell_type": "code",
      "source": [
        "# custom test icin 40 tane sample ayrilmistir\n",
        "data = shuffle(data)\n",
        "\n",
        "custom_test_data = data[2756:]\n",
        "\n",
        "data = data[:2756]"
      ],
      "metadata": {
        "id": "OClqcXkIK8n8"
      },
      "execution_count": 29,
      "outputs": []
    },
    {
      "cell_type": "code",
      "source": [
        "custom_test_data.to_csv(\"custom_test.csv\", encoding = \"utf-8\")"
      ],
      "metadata": {
        "id": "foJezV-rMjsp"
      },
      "execution_count": 30,
      "outputs": []
    },
    {
      "cell_type": "markdown",
      "source": [
        "### **Target Variables = MS - KG - IY (Sıra Sıra)**\n"
      ],
      "metadata": {
        "id": "jdufZcqlutkl"
      }
    },
    {
      "cell_type": "markdown",
      "source": [
        "# Training Function"
      ],
      "metadata": {
        "id": "5eaoCTjrhqH_"
      }
    },
    {
      "cell_type": "code",
      "source": [
        "def classify_by_feature(data, feature_list):\n",
        "  for feature in feature_list:\n",
        "    model_list = []\n",
        "    acc_list = []\n",
        "    \n",
        "    acc = 0\n",
        "    print(\"\\nCLASSIFICATION RESULT BY FEATURE: \", feature)\n",
        "    # mac sonucu icin classification yapmak adina ana dataset kopyalanir\n",
        "    ms_df = data.copy()\n",
        "    \n",
        "    # numerik olmayan skor iceren columnlari dropluyorum\n",
        "    ms_df = ms_df.drop(\"MS\", axis = 'columns')\n",
        "    ms_df = ms_df.drop('IY', axis = 'columns')\n",
        "    \n",
        "    \n",
        "    # her featureda target variable feature olmustur\n",
        "    Y = ms_df[feature]\n",
        "    \n",
        "    # kalan featurelar independent variables\n",
        "    X = ms_df.drop(feature, axis = 'columns')\n",
        "    \n",
        "    # dataset 80-20 oraninda ayrilir\n",
        "    X_train, X_test, y_train, y_test = train_test_split(X, Y, test_size=0.2, random_state=42)\n",
        "    \n",
        "    # dataset orijinal, pca ve normalize edilmis olarak 3 farkli sekilde tutulur\n",
        "    scaler = StandardScaler()\n",
        "    X_train_pca = scaler.fit_transform(X_train)\n",
        "    X_test_pca = scaler.transform(X_test)\n",
        "    pca = PCA(n_components=5)\n",
        "\n",
        "    X_train_pca = pca.fit_transform(X_train_pca)\n",
        "    X_test_pca = pca.fit_transform(X_test_pca)\n",
        "\n",
        "    X_train_norm = preprocessing.normalize(X_train)  \n",
        "    X_test_norm = preprocessing.normalize(X_test)  \n",
        "\n",
        "    X_train_list = [X_train, X_train_pca, X_train_norm]\n",
        "    X_test_list = [X_test, X_test_pca, X_test_norm]\n",
        "    \n",
        "    data_format_list = ['(Original Data): ', '(PCA Data): ', '(Normalized Data): ']\n",
        "\n",
        "    # 3 farkli feature (ms, iy, kg) icin 4 farkli ml algoritmasina (knn, decision tree, random forest, svm) veri setleri verilir\n",
        "    # gridsearch cv ile cross validation uygulanir\n",
        "    for i in range(3):\n",
        "      \n",
        "      params = {\n",
        "          'n_neighbors': [7, 5, 3, 9]\n",
        "      }\n",
        "\n",
        "      # her feature icin sirasiyla orijinal, pca ve normalize edilmis datalar cekilir\n",
        "      X_train_cur = X_train_list[i]\n",
        "      X_test_cur = X_test_list[i]\n",
        "\n",
        "      # modeller tanimlanir ve fit edilir, accuracy ve modeller kiyaslanmak uzere kaydedilir\n",
        "      knn = KNeighborsClassifier()\n",
        "      cv = GridSearchCV(estimator=knn, param_grid=params, cv=10)\n",
        "      cv.fit(X_train_cur, y_train)\n",
        "      KNN_model = KNeighborsClassifier(n_neighbors=cv.best_params_[\"n_neighbors\"])\n",
        "      KNN_model.fit(X_train_cur, y_train)\n",
        "      y_preds_KNN = KNN_model.predict(X_test_cur)\n",
        "    \n",
        "      \n",
        "      KNN_accuracy = metrics.accuracy_score(y_test, y_preds_KNN)\n",
        "      KNN_f1 = metrics.f1_score(y_test, y_preds_KNN, average=\"weighted\")\n",
        "      filename = feature + \"_\" + data_format_list[i] + '_' + str(KNN_accuracy) + \".sav\"\n",
        "      pickle.dump(KNN_model, open(filename, 'wb'))\n",
        "      print(\"\\nAccuracy With KNN \" + data_format_list[i] + \" \" + str(KNN_accuracy))\n",
        "      print(\"F1 With KNN \" + data_format_list[i] + \" \" + str(KNN_f1))\n",
        "\n",
        "      \n",
        "      params = {\n",
        "          \"criterion\":[\"gini\", \"entropy\"]\n",
        "      }\n",
        "\n",
        "      DT = DecisionTreeClassifier() \n",
        "      cv = GridSearchCV(DT, param_grid=params, cv=10)\n",
        "      cv.fit(X_train_cur, y_train)\n",
        "      DT_model = DecisionTreeClassifier(criterion=cv.best_params_[\"criterion\"])\n",
        "      DT_model.fit(X_train_cur, y_train)\n",
        "      y_preds_DT = DT_model.predict(X_test_cur)\n",
        "\n",
        "      DT_accuracy = metrics.accuracy_score(y_test, y_preds_DT)\n",
        "      DT_f1 = metrics.f1_score(y_test, y_preds_DT, average=\"weighted\")\n",
        "      print(\"\\nAccuracy With Decision Tree \" + data_format_list[i] + \" \" + str(DT_accuracy))\n",
        "      print(\"F1 With Decision Tree \" + data_format_list[i] + \" \" + str(DT_f1))\n",
        "      filename = feature + \"_\" + data_format_list[i] + '_' + str(DT_accuracy) + \".sav\"\n",
        "      pickle.dump(DT_model, open(filename, 'wb'))\n",
        "\n",
        "      RFC = RandomForestClassifier()\n",
        "\n",
        "      params = {\n",
        "          \"n_estimators\":[100,200],\n",
        "          \"criterion\":[\"gini\",\"entropy\"]\n",
        "      }\n",
        "\n",
        "      \n",
        "      cv = GridSearchCV(estimator=RFC, param_grid=params, cv=10)\n",
        "      cv.fit(X_train_cur, y_train)\n",
        "      RFC_model = RandomForestClassifier(random_state=34, n_estimators=cv.best_params_[\"n_estimators\"], criterion=cv.best_params_[\"criterion\"])\n",
        "      RFC_model.fit(X_train_cur, y_train)\n",
        "      RFC_preds = RFC_model.predict(X_test_cur)\n",
        "\n",
        "      RFC_accuracy = metrics.accuracy_score(y_test, RFC_preds)\n",
        "      RFC_f1 = metrics.f1_score(y_test, RFC_preds, average = \"weighted\")\n",
        "      print(\"\\nAccuracy With Random Forest \" + data_format_list[i] + \" \" + str(RFC_accuracy))\n",
        "      print(\"F1 With Random Forest \" + data_format_list[i] + \" \" + str(RFC_f1))\n",
        "      filename = feature + \"_\" + data_format_list[i] + '_' + str(RFC_accuracy) + \".sav\"\n",
        "      pickle.dump(RFC_model, open(filename, 'wb'))\n",
        "\n",
        "\n",
        "\n",
        "      \n",
        "      svc = SVC()\n",
        "      params = {\n",
        "          \"kernel\":[\"linear\", \"poly\"]\n",
        "      }\n",
        "\n",
        "      cv = GridSearchCV(estimator=svc, param_grid=params, cv=10)\n",
        "      cv.fit(X_train_cur, y_train)\n",
        "      SVC_model = SVC(kernel=cv.best_params_[\"kernel\"])\n",
        "      SVC_model.fit(X_train_cur, y_train)\n",
        "      SVC_preds = SVC_model.predict(X_test_cur)\n",
        "\n",
        "      SVC_accuracy = metrics.accuracy_score(y_test, SVC_preds)\n",
        "      SVC_f1 = metrics.f1_score(y_test, SVC_preds, average=\"weighted\")\n",
        "      print(\"\\nAccuracy With Support Vector Machines \" + data_format_list[i] + \" \" + str(SVC_accuracy))\n",
        "      print(\"F1 With Support Vector Machine \" + data_format_list[i] + \" \" + str(SVC_f1))\n",
        "      filename = feature + \"_\" + data_format_list[i] + '_' + str(SVC_accuracy) + \".sav\"\n",
        "      pickle.dump(SVC_model, open(filename, 'wb'))\n",
        "\n",
        "      # accuracy comparison of knn models trained with different datasets\n",
        "      y= [KNN_accuracy, DT_accuracy, RFC_accuracy, SVC_accuracy]\n",
        "      x = [1, 2, 3, 4]\n",
        "      tick_label = ['KNN', 'DT' , 'RFC', 'SVC']\n",
        "      plt.bar(x, y, tick_label = tick_label,\n",
        "              width = 0.8, color = ['red', 'orange','blue', 'green'])\n",
        "      plt.xlabel('Model')\n",
        "      plt.ylabel('Accuracy')\n",
        "      plt.title(feature.replace(\"_numerik\",\"\") + \" \" +data_format_list[i] + 'Accuracy Comparison')\n",
        "\n",
        "      plt.show()\n",
        "      print(\"------------------------------------------------------------------------------------\\n\")"
      ],
      "metadata": {
        "id": "7Oi-FaS3WJLp"
      },
      "execution_count": 31,
      "outputs": []
    },
    {
      "cell_type": "code",
      "source": [
        "# feature listesi tanimlanir ve train function calistirilir\n",
        "\n",
        "feature_list = ['MS_numerik', 'IY_numerik', 'KG_numerik']\n",
        "\n",
        "classify_by_feature(data, feature_list)"
      ],
      "metadata": {
        "colab": {
          "base_uri": "https://localhost:8080/",
          "height": 1000
        },
        "id": "4GltOFW6a6eB",
        "outputId": "b770669c-c284-4bb4-c962-7351967027a8"
      },
      "execution_count": 32,
      "outputs": [
        {
          "output_type": "stream",
          "name": "stdout",
          "text": [
            "\n",
            "CLASSIFICATION RESULT BY FEATURE:  MS_numerik\n",
            "\n",
            "Accuracy With KNN (Original Data):  0.552536231884058\n",
            "F1 With KNN (Original Data):  0.5530312868756805\n",
            "\n",
            "Accuracy With Decision Tree (Original Data):  0.5398550724637681\n",
            "F1 With Decision Tree (Original Data):  0.5391467673310011\n",
            "\n",
            "Accuracy With Random Forest (Original Data):  0.5615942028985508\n",
            "F1 With Random Forest (Original Data):  0.5529783538439982\n",
            "\n",
            "Accuracy With Support Vector Machines (Original Data):  0.5253623188405797\n",
            "F1 With Support Vector Machine (Original Data):  0.4518501582339751\n"
          ]
        },
        {
          "output_type": "display_data",
          "data": {
            "text/plain": [
              "<Figure size 432x288 with 1 Axes>"
            ],
            "image/png": "[encoded data removed]"
          },
          "metadata": {
            "needs_background": "light"
          }
        },
        {
          "output_type": "stream",
          "name": "stdout",
          "text": [
            "------------------------------------------------------------------------------------\n",
            "\n",
            "\n",
            "Accuracy With KNN (PCA Data):  0.2971014492753623\n",
            "F1 With KNN (PCA Data):  0.29046099935548336\n",
            "\n",
            "Accuracy With Decision Tree (PCA Data):  0.3423913043478261\n",
            "F1 With Decision Tree (PCA Data):  0.3424646226441254\n",
            "\n",
            "Accuracy With Random Forest (PCA Data):  0.33695652173913043\n",
            "F1 With Random Forest (PCA Data):  0.324840850426962\n",
            "\n",
            "Accuracy With Support Vector Machines (PCA Data):  0.3134057971014493\n",
            "F1 With Support Vector Machine (PCA Data):  0.2536595795539815\n"
          ]
        },
        {
          "output_type": "display_data",
          "data": {
            "text/plain": [
              "<Figure size 432x288 with 1 Axes>"
            ],
            "image/png": "[encoded data removed]"
          },
          "metadata": {
            "needs_background": "light"
          }
        },
        {
          "output_type": "stream",
          "name": "stdout",
          "text": [
            "------------------------------------------------------------------------------------\n",
            "\n",
            "\n",
            "Accuracy With KNN (Normalized Data):  0.552536231884058\n",
            "F1 With KNN (Normalized Data):  0.5559805401629251\n",
            "\n",
            "Accuracy With Decision Tree (Normalized Data):  0.5652173913043478\n",
            "F1 With Decision Tree (Normalized Data):  0.5619437767629233\n",
            "\n",
            "Accuracy With Random Forest (Normalized Data):  0.5543478260869565\n",
            "F1 With Random Forest (Normalized Data):  0.5402733305798594\n",
            "\n",
            "Accuracy With Support Vector Machines (Normalized Data):  0.5416666666666666\n",
            "F1 With Support Vector Machine (Normalized Data):  0.5011507965734269\n"
          ]
        },
        {
          "output_type": "display_data",
          "data": {
            "text/plain": [
              "<Figure size 432x288 with 1 Axes>"
            ],
            "image/png": "[encoded data removed]"
          },
          "metadata": {
            "needs_background": "light"
          }
        },
        {
          "output_type": "stream",
          "name": "stdout",
          "text": [
            "------------------------------------------------------------------------------------\n",
            "\n",
            "\n",
            "CLASSIFICATION RESULT BY FEATURE:  IY_numerik\n",
            "\n",
            "Accuracy With KNN (Original Data):  0.4927536231884058\n",
            "F1 With KNN (Original Data):  0.4923927341231207\n",
            "\n",
            "Accuracy With Decision Tree (Original Data):  0.4583333333333333\n",
            "F1 With Decision Tree (Original Data):  0.4584752219671774\n",
            "\n",
            "Accuracy With Random Forest (Original Data):  0.5036231884057971\n",
            "F1 With Random Forest (Original Data):  0.5033806811329065\n",
            "\n",
            "Accuracy With Support Vector Machines (Original Data):  0.46557971014492755\n",
            "F1 With Support Vector Machine (Original Data):  0.41358468136356064\n"
          ]
        },
        {
          "output_type": "display_data",
          "data": {
            "text/plain": [
              "<Figure size 432x288 with 1 Axes>"
            ],
            "image/png": "[encoded data removed]"
          },
          "metadata": {
            "needs_background": "light"
          }
        },
        {
          "output_type": "stream",
          "name": "stdout",
          "text": [
            "------------------------------------------------------------------------------------\n",
            "\n",
            "\n",
            "Accuracy With KNN (PCA Data):  0.34782608695652173\n",
            "F1 With KNN (PCA Data):  0.3341461873455803\n",
            "\n",
            "Accuracy With Decision Tree (PCA Data):  0.36231884057971014\n",
            "F1 With Decision Tree (PCA Data):  0.364269862930081\n",
            "\n",
            "Accuracy With Random Forest (PCA Data):  0.358695652173913\n",
            "F1 With Random Forest (PCA Data):  0.34391044682018407\n",
            "\n",
            "Accuracy With Support Vector Machines (PCA Data):  0.391304347826087\n",
            "F1 With Support Vector Machine (PCA Data):  0.264537012782775\n"
          ]
        },
        {
          "output_type": "display_data",
          "data": {
            "text/plain": [
              "<Figure size 432x288 with 1 Axes>"
            ],
            "image/png": "[encoded data removed]"
          },
          "metadata": {
            "needs_background": "light"
          }
        },
        {
          "output_type": "stream",
          "name": "stdout",
          "text": [
            "------------------------------------------------------------------------------------\n",
            "\n",
            "\n",
            "Accuracy With KNN (Normalized Data):  0.5307971014492754\n",
            "F1 With KNN (Normalized Data):  0.5307816091020915\n",
            "\n",
            "Accuracy With Decision Tree (Normalized Data):  0.4673913043478261\n",
            "F1 With Decision Tree (Normalized Data):  0.46762402859090857\n",
            "\n",
            "Accuracy With Random Forest (Normalized Data):  0.48731884057971014\n",
            "F1 With Random Forest (Normalized Data):  0.48679739064559374\n",
            "\n",
            "Accuracy With Support Vector Machines (Normalized Data):  0.4746376811594203\n",
            "F1 With Support Vector Machine (Normalized Data):  0.41869936026725996\n"
          ]
        },
        {
          "output_type": "display_data",
          "data": {
            "text/plain": [
              "<Figure size 432x288 with 1 Axes>"
            ],
            "image/png": "[encoded data removed]"
          },
          "metadata": {
            "needs_background": "light"
          }
        },
        {
          "output_type": "stream",
          "name": "stdout",
          "text": [
            "------------------------------------------------------------------------------------\n",
            "\n",
            "\n",
            "CLASSIFICATION RESULT BY FEATURE:  KG_numerik\n",
            "\n",
            "Accuracy With KNN (Original Data):  0.6105072463768116\n",
            "F1 With KNN (Original Data):  0.6106931079304571\n",
            "\n",
            "Accuracy With Decision Tree (Original Data):  0.5688405797101449\n",
            "F1 With Decision Tree (Original Data):  0.5686244739530913\n",
            "\n",
            "Accuracy With Random Forest (Original Data):  0.6141304347826086\n",
            "F1 With Random Forest (Original Data):  0.6122409455713079\n",
            "\n",
            "Accuracy With Support Vector Machines (Original Data):  0.5760869565217391\n",
            "F1 With Support Vector Machine (Original Data):  0.5693034342203898\n"
          ]
        },
        {
          "output_type": "display_data",
          "data": {
            "text/plain": [
              "<Figure size 432x288 with 1 Axes>"
            ],
            "image/png": "[encoded data removed]"
          },
          "metadata": {
            "needs_background": "light"
          }
        },
        {
          "output_type": "stream",
          "name": "stdout",
          "text": [
            "------------------------------------------------------------------------------------\n",
            "\n",
            "\n",
            "Accuracy With KNN (PCA Data):  0.48731884057971014\n",
            "F1 With KNN (PCA Data):  0.4828244138209943\n",
            "\n",
            "Accuracy With Decision Tree (PCA Data):  0.5090579710144928\n",
            "F1 With Decision Tree (PCA Data):  0.5080663328726719\n",
            "\n",
            "Accuracy With Random Forest (PCA Data):  0.5181159420289855\n",
            "F1 With Random Forest (PCA Data):  0.5002651820870325\n",
            "\n",
            "Accuracy With Support Vector Machines (PCA Data):  0.4927536231884058\n",
            "F1 With Support Vector Machine (PCA Data):  0.41728615816305864\n"
          ]
        },
        {
          "output_type": "display_data",
          "data": {
            "text/plain": [
              "<Figure size 432x288 with 1 Axes>"
            ],
            "image/png": "[encoded data removed]"
          },
          "metadata": {
            "needs_background": "light"
          }
        },
        {
          "output_type": "stream",
          "name": "stdout",
          "text": [
            "------------------------------------------------------------------------------------\n",
            "\n",
            "\n",
            "Accuracy With KNN (Normalized Data):  0.6177536231884058\n",
            "F1 With KNN (Normalized Data):  0.618096593779209\n",
            "\n",
            "Accuracy With Decision Tree (Normalized Data):  0.572463768115942\n",
            "F1 With Decision Tree (Normalized Data):  0.568870115915345\n",
            "\n",
            "Accuracy With Random Forest (Normalized Data):  0.6123188405797102\n",
            "F1 With Random Forest (Normalized Data):  0.6098426994720652\n",
            "\n",
            "Accuracy With Support Vector Machines (Normalized Data):  0.5778985507246377\n",
            "F1 With Support Vector Machine (Normalized Data):  0.572508720282899\n"
          ]
        },
        {
          "output_type": "display_data",
          "data": {
            "text/plain": [
              "<Figure size 432x288 with 1 Axes>"
            ],
            "image/png": "[encoded data removed]"
          },
          "metadata": {
            "needs_background": "light"
          }
        },
        {
          "output_type": "stream",
          "name": "stdout",
          "text": [
            "------------------------------------------------------------------------------------\n",
            "\n"
          ]
        }
      ]
    }
  ]
}